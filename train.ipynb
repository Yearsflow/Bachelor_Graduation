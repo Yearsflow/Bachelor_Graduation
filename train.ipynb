{
 "cells": [
  {
   "cell_type": "code",
   "execution_count": 1,
   "metadata": {},
   "outputs": [],
   "source": [
    "import pandas as pd"
   ]
  },
  {
   "cell_type": "code",
   "execution_count": 2,
   "metadata": {},
   "outputs": [],
   "source": [
    "train_vec=pd.read_csv('train_vec.txt',sep=' ',header=None)\n",
    "dev_vec=pd.read_csv('dev_vec.txt',sep=' ',header=None)\n",
    "test_vec=pd.read_csv('test_vec.txt',sep=' ',header=None)\n",
    "train_label=pd.read_csv('train_label.txt',names=['label'])\n",
    "dev_label=pd.read_csv('dev_label.txt',names=['label'])\n",
    "test_label=pd.read_csv('test_label.txt',names=['label'])"
   ]
  },
  {
   "cell_type": "code",
   "execution_count": 3,
   "metadata": {},
   "outputs": [],
   "source": [
    "label={'history':0,'military':1,'baby':2,'world':3,'tech':4,\n",
    "        'game':5,'society':6,'sports':7,'travel':8,'car':9,\n",
    "        'food':10,'entertainment':11,'finance':12,'fashion':13,\n",
    "        'discovery':14,'story':15,'regimen':16,'essay':17}"
   ]
  },
  {
   "cell_type": "code",
   "execution_count": 4,
   "metadata": {},
   "outputs": [],
   "source": [
    "def transform_label(df):\n",
    "    for i in range(len(df)):\n",
    "        df['label'][i]=label[df['label'][i]]\n",
    "    return df"
   ]
  },
  {
   "cell_type": "code",
   "execution_count": 5,
   "metadata": {},
   "outputs": [],
   "source": [
    "train_label=transform_label(train_label)\n",
    "dev_label=transform_label(dev_label)\n",
    "test_label=transform_label(test_label)"
   ]
  },
  {
   "cell_type": "code",
   "execution_count": 39,
   "metadata": {},
   "outputs": [
    {
     "data": {
      "text/plain": [
       "0.7252835854092526"
      ]
     },
     "execution_count": 39,
     "metadata": {},
     "output_type": "execute_result"
    }
   ],
   "source": [
    "from sklearn.naive_bayes import GaussianNB\n",
    "import numpy as np\n",
    "nb=GaussianNB()\n",
    "nb.fit(np.array(pd.concat([train_vec,dev_vec],join='inner')),list(train_label['label'].astype(int))+list(dev_label['label'].astype(int)))\n",
    "nb.score(np.array(test_vec),test_label['label'].astype(int))"
   ]
  },
  {
   "cell_type": "code",
   "execution_count": null,
   "metadata": {},
   "outputs": [],
   "source": []
  }
 ],
 "metadata": {
  "interpreter": {
   "hash": "cb765c3868d9bad005e70532223c561422f02f67a5fc37903f253e3d1fb0edf2"
  },
  "kernelspec": {
   "display_name": "Python 3.8.12 64-bit ('Graduation': conda)",
   "language": "python",
   "name": "python3"
  },
  "language_info": {
   "codemirror_mode": {
    "name": "ipython",
    "version": 3
   },
   "file_extension": ".py",
   "mimetype": "text/x-python",
   "name": "python",
   "nbconvert_exporter": "python",
   "pygments_lexer": "ipython3",
   "version": "3.8.12"
  },
  "orig_nbformat": 4
 },
 "nbformat": 4,
 "nbformat_minor": 2
}
