{
 "cells": [
  {
   "cell_type": "code",
   "execution_count": 1,
   "metadata": {},
   "outputs": [],
   "source": [
    "import pandas as pd\n",
    "import function\n",
    "import numpy as np\n",
    "import tensorflow as tf\n",
    "from tensorflow import keras\n",
    "from keras.models import Model,Sequential\n",
    "from keras.layers import Dense,Dropout\n",
    "from tensorflow.keras.optimizers import SGD\n",
    "from keras.losses import SparseCategoricalCrossentropy"
   ]
  },
  {
   "cell_type": "code",
   "execution_count": 2,
   "metadata": {},
   "outputs": [],
   "source": [
    "train_vec=pd.read_csv('./gc_data/train_vec.txt',sep=' ',header=None)\n",
    "dev_vec=pd.read_csv('./gc_data/dev_vec.txt',sep=' ',header=None)\n",
    "test_vec=pd.read_csv('./gc_data/test_vec.txt',sep=' ',header=None)\n",
    "train_label=pd.read_csv('./gc_data/train_label.txt',names=['label'])\n",
    "dev_label=pd.read_csv('./gc_data/dev_label.txt',names=['label'])\n",
    "test_label=pd.read_csv('./gc_data/test_label.txt',names=['label'])"
   ]
  },
  {
   "cell_type": "code",
   "execution_count": 3,
   "metadata": {},
   "outputs": [],
   "source": [
    "train_label=function.transform_label(train_label)\n",
    "dev_label=function.transform_label(dev_label)\n",
    "test_label=function.transform_label(test_label)"
   ]
  },
  {
   "cell_type": "code",
   "execution_count": 4,
   "metadata": {},
   "outputs": [],
   "source": [
    "train_X=np.array(pd.concat([train_vec,dev_vec],join='inner'))\n",
    "train_Y=np.array(list(train_label['label'].astype(int))+list(dev_label['label'].astype(int)))\n",
    "test_X=test_vec\n",
    "test_Y=test_label['label'].astype(int)"
   ]
  },
  {
   "cell_type": "code",
   "execution_count": 5,
   "metadata": {},
   "outputs": [
    {
     "name": "stdout",
     "output_type": "stream",
     "text": [
      "Epoch 1/20\n",
      "10731/10731 [==============================] - 40s 4ms/step - loss: 1.0170 - accuracy: 0.7009 - val_loss: 1.1687 - val_accuracy: 0.6458\n",
      "Epoch 2/20\n",
      "10731/10731 [==============================] - 39s 4ms/step - loss: 0.8190 - accuracy: 0.7593 - val_loss: 0.7997 - val_accuracy: 0.7605\n",
      "Epoch 3/20\n",
      "10731/10731 [==============================] - 40s 4ms/step - loss: 0.7821 - accuracy: 0.7677 - val_loss: 1.4965 - val_accuracy: 0.5544\n",
      "Epoch 4/20\n",
      "10731/10731 [==============================] - 40s 4ms/step - loss: 0.7582 - accuracy: 0.7740 - val_loss: 0.7559 - val_accuracy: 0.7718\n",
      "Epoch 5/20\n",
      "10731/10731 [==============================] - 39s 4ms/step - loss: 0.7418 - accuracy: 0.7782 - val_loss: 0.7588 - val_accuracy: 0.7727\n",
      "Epoch 6/20\n",
      "10731/10731 [==============================] - 43s 4ms/step - loss: 0.7288 - accuracy: 0.7808 - val_loss: 1.2964 - val_accuracy: 0.6140\n",
      "Epoch 7/20\n",
      "10731/10731 [==============================] - 44s 4ms/step - loss: 0.7180 - accuracy: 0.7836 - val_loss: 0.7572 - val_accuracy: 0.7721\n",
      "Epoch 8/20\n",
      "10731/10731 [==============================] - 45s 4ms/step - loss: 0.7084 - accuracy: 0.7855 - val_loss: 0.7348 - val_accuracy: 0.7797\n",
      "Epoch 9/20\n",
      "10731/10731 [==============================] - 54s 5ms/step - loss: 0.6996 - accuracy: 0.7881 - val_loss: 0.8216 - val_accuracy: 0.7541\n",
      "Epoch 10/20\n",
      "10731/10731 [==============================] - 45s 4ms/step - loss: 0.6926 - accuracy: 0.7899 - val_loss: 0.7199 - val_accuracy: 0.7821\n",
      "Epoch 11/20\n",
      "10731/10731 [==============================] - 34s 3ms/step - loss: 0.6864 - accuracy: 0.7913 - val_loss: 0.7141 - val_accuracy: 0.7822\n",
      "Epoch 12/20\n",
      "10731/10731 [==============================] - 32s 3ms/step - loss: 0.6802 - accuracy: 0.7926 - val_loss: 0.7312 - val_accuracy: 0.7816\n",
      "Epoch 13/20\n",
      "10731/10731 [==============================] - 32s 3ms/step - loss: 0.6713 - accuracy: 0.7948 - val_loss: 0.7121 - val_accuracy: 0.7842\n",
      "Epoch 14/20\n",
      "10731/10731 [==============================] - 32s 3ms/step - loss: 0.6663 - accuracy: 0.7950 - val_loss: 0.7456 - val_accuracy: 0.7771\n",
      "Epoch 15/20\n",
      "10731/10731 [==============================] - 32s 3ms/step - loss: 0.6596 - accuracy: 0.7975 - val_loss: 0.7456 - val_accuracy: 0.7753\n",
      "Epoch 16/20\n",
      "10731/10731 [==============================] - 33s 3ms/step - loss: 0.6546 - accuracy: 0.7985 - val_loss: 0.7123 - val_accuracy: 0.7861\n",
      "Epoch 17/20\n",
      "10731/10731 [==============================] - 32s 3ms/step - loss: 0.6492 - accuracy: 0.7999 - val_loss: 0.7666 - val_accuracy: 0.7712\n",
      "Epoch 18/20\n",
      "10731/10731 [==============================] - 32s 3ms/step - loss: 0.6426 - accuracy: 0.8015 - val_loss: 0.7762 - val_accuracy: 0.7712\n",
      "Epoch 19/20\n",
      "10731/10731 [==============================] - 32s 3ms/step - loss: 0.6373 - accuracy: 0.8018 - val_loss: 0.7379 - val_accuracy: 0.7772\n",
      "Epoch 20/20\n",
      "10731/10731 [==============================] - 32s 3ms/step - loss: 0.6323 - accuracy: 0.8043 - val_loss: 0.7279 - val_accuracy: 0.7817\n"
     ]
    }
   ],
   "source": [
    "def MLP(optimizer=SGD(),loss=SparseCategoricalCrossentropy(),metrics=['accuracy']):\n",
    "    model=Sequential([\n",
    "        Dense(256,activation='relu',input_shape=(768,)),\n",
    "        Dense(256,activation='relu'),\n",
    "        Dense(128,activation='relu'),\n",
    "        Dense(64,activation='relu'),\n",
    "        Dropout(0.2),\n",
    "        Dense(18,activation='softmax')\n",
    "    ])\n",
    "    model.compile(optimizer=optimizer,loss=loss,metrics=metrics)\n",
    "    return model\n",
    "\n",
    "model=MLP()\n",
    "history=model.fit(train_X,train_Y,batch_size=16,epochs=20,validation_split=0.1)\n",
    "result=model.predict(test_X)"
   ]
  },
  {
   "cell_type": "code",
   "execution_count": 7,
   "metadata": {},
   "outputs": [
    {
     "name": "stdout",
     "output_type": "stream",
     "text": [
      "Epoch 1/20\n",
      "10731/10731 [==============================] - 37s 3ms/step - loss: 0.8924 - accuracy: 0.7469 - val_loss: 0.8311 - val_accuracy: 0.7569\n",
      "Epoch 2/20\n",
      "10731/10731 [==============================] - 36s 3ms/step - loss: 0.7846 - accuracy: 0.7750 - val_loss: 0.8182 - val_accuracy: 0.7615\n",
      "Epoch 3/20\n",
      "10731/10731 [==============================] - 43s 4ms/step - loss: 0.7498 - accuracy: 0.7817 - val_loss: 0.7737 - val_accuracy: 0.7740\n",
      "Epoch 4/20\n",
      "10731/10731 [==============================] - 46s 4ms/step - loss: 0.7257 - accuracy: 0.7864 - val_loss: 0.7922 - val_accuracy: 0.7684\n",
      "Epoch 5/20\n",
      "10731/10731 [==============================] - 47s 4ms/step - loss: 0.7080 - accuracy: 0.7911 - val_loss: 0.7836 - val_accuracy: 0.7746\n",
      "Epoch 6/20\n",
      "10731/10731 [==============================] - 45s 4ms/step - loss: 0.6900 - accuracy: 0.7945 - val_loss: 0.7849 - val_accuracy: 0.7733\n",
      "Epoch 7/20\n",
      "10731/10731 [==============================] - 49s 5ms/step - loss: 0.6783 - accuracy: 0.7969 - val_loss: 0.7863 - val_accuracy: 0.7754\n",
      "Epoch 8/20\n",
      "10731/10731 [==============================] - 38s 3ms/step - loss: 0.6661 - accuracy: 0.8006 - val_loss: 0.7942 - val_accuracy: 0.7735\n",
      "Epoch 9/20\n",
      "10731/10731 [==============================] - 37s 3ms/step - loss: 0.6529 - accuracy: 0.8043 - val_loss: 0.7995 - val_accuracy: 0.7736\n",
      "Epoch 10/20\n",
      "10731/10731 [==============================] - 36s 3ms/step - loss: 0.6414 - accuracy: 0.8069 - val_loss: 0.7927 - val_accuracy: 0.7757\n",
      "Epoch 11/20\n",
      "10731/10731 [==============================] - 37s 3ms/step - loss: 0.6345 - accuracy: 0.8086 - val_loss: 0.8307 - val_accuracy: 0.7737\n",
      "Epoch 12/20\n",
      "10731/10731 [==============================] - 35s 3ms/step - loss: 0.6252 - accuracy: 0.8115 - val_loss: 0.8386 - val_accuracy: 0.7751\n",
      "Epoch 13/20\n",
      "10731/10731 [==============================] - 35s 3ms/step - loss: 0.6144 - accuracy: 0.8141 - val_loss: 0.8453 - val_accuracy: 0.7731\n",
      "Epoch 14/20\n",
      "10731/10731 [==============================] - 35s 3ms/step - loss: 0.6091 - accuracy: 0.8165 - val_loss: 0.8739 - val_accuracy: 0.7690\n",
      "Epoch 15/20\n",
      "10731/10731 [==============================] - 35s 3ms/step - loss: 0.6023 - accuracy: 0.8170 - val_loss: 0.8806 - val_accuracy: 0.7717\n",
      "Epoch 16/20\n",
      "10731/10731 [==============================] - 36s 3ms/step - loss: 0.5920 - accuracy: 0.8200 - val_loss: 0.8883 - val_accuracy: 0.7756\n",
      "Epoch 17/20\n",
      "10731/10731 [==============================] - 36s 3ms/step - loss: 0.5856 - accuracy: 0.8224 - val_loss: 0.8826 - val_accuracy: 0.7765\n",
      "Epoch 18/20\n",
      "10731/10731 [==============================] - 36s 3ms/step - loss: 0.5782 - accuracy: 0.8238 - val_loss: 0.9159 - val_accuracy: 0.7747\n",
      "Epoch 19/20\n",
      "10731/10731 [==============================] - 35s 3ms/step - loss: 0.5746 - accuracy: 0.8253 - val_loss: 0.9815 - val_accuracy: 0.7661\n",
      "Epoch 20/20\n",
      "10731/10731 [==============================] - 36s 3ms/step - loss: 0.5662 - accuracy: 0.8270 - val_loss: 0.9668 - val_accuracy: 0.7616\n"
     ]
    },
    {
     "ename": "InternalError",
     "evalue": "Failed copying input tensor from /job:localhost/replica:0/task:0/device:CPU:0 to /job:localhost/replica:0/task:0/device:GPU:0 in order to run _EagerConst: Dst tensor is not initialized.",
     "output_type": "error",
     "traceback": [
      "\u001b[1;31m---------------------------------------------------------------------------\u001b[0m",
      "\u001b[1;31mInternalError\u001b[0m                             Traceback (most recent call last)",
      "\u001b[1;32m~\\AppData\\Local\\Temp/ipykernel_24268/2758167557.py\u001b[0m in \u001b[0;36m<module>\u001b[1;34m\u001b[0m\n\u001b[0;32m      1\u001b[0m \u001b[0mmodel\u001b[0m\u001b[1;33m=\u001b[0m\u001b[0mMLP\u001b[0m\u001b[1;33m(\u001b[0m\u001b[1;34m'adam'\u001b[0m\u001b[1;33m)\u001b[0m\u001b[1;33m\u001b[0m\u001b[1;33m\u001b[0m\u001b[0m\n\u001b[0;32m      2\u001b[0m \u001b[0mhistory\u001b[0m\u001b[1;33m=\u001b[0m\u001b[0mmodel\u001b[0m\u001b[1;33m.\u001b[0m\u001b[0mfit\u001b[0m\u001b[1;33m(\u001b[0m\u001b[0mtrain_X\u001b[0m\u001b[1;33m,\u001b[0m\u001b[0mtrain_Y\u001b[0m\u001b[1;33m,\u001b[0m\u001b[0mbatch_size\u001b[0m\u001b[1;33m=\u001b[0m\u001b[1;36m16\u001b[0m\u001b[1;33m,\u001b[0m\u001b[0mepochs\u001b[0m\u001b[1;33m=\u001b[0m\u001b[1;36m20\u001b[0m\u001b[1;33m,\u001b[0m\u001b[0mvalidation_split\u001b[0m\u001b[1;33m=\u001b[0m\u001b[1;36m0.1\u001b[0m\u001b[1;33m)\u001b[0m\u001b[1;33m\u001b[0m\u001b[1;33m\u001b[0m\u001b[0m\n\u001b[1;32m----> 3\u001b[1;33m \u001b[0mresult\u001b[0m\u001b[1;33m=\u001b[0m\u001b[0mmodel\u001b[0m\u001b[1;33m.\u001b[0m\u001b[0mpredict\u001b[0m\u001b[1;33m(\u001b[0m\u001b[0mtest_X\u001b[0m\u001b[1;33m)\u001b[0m\u001b[1;33m\u001b[0m\u001b[1;33m\u001b[0m\u001b[0m\n\u001b[0m",
      "\u001b[1;32mD:\\Anaconda\\envs\\Graduation\\lib\\site-packages\\keras\\utils\\traceback_utils.py\u001b[0m in \u001b[0;36merror_handler\u001b[1;34m(*args, **kwargs)\u001b[0m\n\u001b[0;32m     65\u001b[0m     \u001b[1;32mexcept\u001b[0m \u001b[0mException\u001b[0m \u001b[1;32mas\u001b[0m \u001b[0me\u001b[0m\u001b[1;33m:\u001b[0m  \u001b[1;31m# pylint: disable=broad-except\u001b[0m\u001b[1;33m\u001b[0m\u001b[1;33m\u001b[0m\u001b[0m\n\u001b[0;32m     66\u001b[0m       \u001b[0mfiltered_tb\u001b[0m \u001b[1;33m=\u001b[0m \u001b[0m_process_traceback_frames\u001b[0m\u001b[1;33m(\u001b[0m\u001b[0me\u001b[0m\u001b[1;33m.\u001b[0m\u001b[0m__traceback__\u001b[0m\u001b[1;33m)\u001b[0m\u001b[1;33m\u001b[0m\u001b[1;33m\u001b[0m\u001b[0m\n\u001b[1;32m---> 67\u001b[1;33m       \u001b[1;32mraise\u001b[0m \u001b[0me\u001b[0m\u001b[1;33m.\u001b[0m\u001b[0mwith_traceback\u001b[0m\u001b[1;33m(\u001b[0m\u001b[0mfiltered_tb\u001b[0m\u001b[1;33m)\u001b[0m \u001b[1;32mfrom\u001b[0m \u001b[1;32mNone\u001b[0m\u001b[1;33m\u001b[0m\u001b[1;33m\u001b[0m\u001b[0m\n\u001b[0m\u001b[0;32m     68\u001b[0m     \u001b[1;32mfinally\u001b[0m\u001b[1;33m:\u001b[0m\u001b[1;33m\u001b[0m\u001b[1;33m\u001b[0m\u001b[0m\n\u001b[0;32m     69\u001b[0m       \u001b[1;32mdel\u001b[0m \u001b[0mfiltered_tb\u001b[0m\u001b[1;33m\u001b[0m\u001b[1;33m\u001b[0m\u001b[0m\n",
      "\u001b[1;32mD:\\Anaconda\\envs\\Graduation\\lib\\site-packages\\tensorflow\\python\\framework\\constant_op.py\u001b[0m in \u001b[0;36mconvert_to_eager_tensor\u001b[1;34m(value, ctx, dtype)\u001b[0m\n\u001b[0;32m    104\u001b[0m       \u001b[0mdtype\u001b[0m \u001b[1;33m=\u001b[0m \u001b[0mdtypes\u001b[0m\u001b[1;33m.\u001b[0m\u001b[0mas_dtype\u001b[0m\u001b[1;33m(\u001b[0m\u001b[0mdtype\u001b[0m\u001b[1;33m)\u001b[0m\u001b[1;33m.\u001b[0m\u001b[0mas_datatype_enum\u001b[0m\u001b[1;33m\u001b[0m\u001b[1;33m\u001b[0m\u001b[0m\n\u001b[0;32m    105\u001b[0m   \u001b[0mctx\u001b[0m\u001b[1;33m.\u001b[0m\u001b[0mensure_initialized\u001b[0m\u001b[1;33m(\u001b[0m\u001b[1;33m)\u001b[0m\u001b[1;33m\u001b[0m\u001b[1;33m\u001b[0m\u001b[0m\n\u001b[1;32m--> 106\u001b[1;33m   \u001b[1;32mreturn\u001b[0m \u001b[0mops\u001b[0m\u001b[1;33m.\u001b[0m\u001b[0mEagerTensor\u001b[0m\u001b[1;33m(\u001b[0m\u001b[0mvalue\u001b[0m\u001b[1;33m,\u001b[0m \u001b[0mctx\u001b[0m\u001b[1;33m.\u001b[0m\u001b[0mdevice_name\u001b[0m\u001b[1;33m,\u001b[0m \u001b[0mdtype\u001b[0m\u001b[1;33m)\u001b[0m\u001b[1;33m\u001b[0m\u001b[1;33m\u001b[0m\u001b[0m\n\u001b[0m\u001b[0;32m    107\u001b[0m \u001b[1;33m\u001b[0m\u001b[0m\n\u001b[0;32m    108\u001b[0m \u001b[1;33m\u001b[0m\u001b[0m\n",
      "\u001b[1;31mInternalError\u001b[0m: Failed copying input tensor from /job:localhost/replica:0/task:0/device:CPU:0 to /job:localhost/replica:0/task:0/device:GPU:0 in order to run _EagerConst: Dst tensor is not initialized."
     ]
    }
   ],
   "source": [
    "model=MLP('adam')\n",
    "history=model.fit(train_X,train_Y,batch_size=16,epochs=20,validation_split=0.1)\n",
    "result=model.predict(test_X)"
   ]
  },
  {
   "cell_type": "code",
   "execution_count": 10,
   "metadata": {},
   "outputs": [
    {
     "name": "stdout",
     "output_type": "stream",
     "text": [
      "Accuracy: 0.7830849644128114\n",
      "Recall: 0.7830902793699513\n",
      "F1: 0.7812188450173734\n"
     ]
    }
   ],
   "source": [
    "res=[]\n",
    "for i in range(len(result)):\n",
    "    res.append(list(result[i]).index(max(result[i])))\n",
    "function.evaluate(res,test_Y)"
   ]
  },
  {
   "cell_type": "code",
   "execution_count": null,
   "metadata": {},
   "outputs": [],
   "source": []
  }
 ],
 "metadata": {
  "interpreter": {
   "hash": "cb765c3868d9bad005e70532223c561422f02f67a5fc37903f253e3d1fb0edf2"
  },
  "kernelspec": {
   "display_name": "Python 3.8.12 64-bit ('Graduation': conda)",
   "language": "python",
   "name": "python3"
  },
  "language_info": {
   "codemirror_mode": {
    "name": "ipython",
    "version": 3
   },
   "file_extension": ".py",
   "mimetype": "text/x-python",
   "name": "python",
   "nbconvert_exporter": "python",
   "pygments_lexer": "ipython3",
   "version": "3.8.12"
  },
  "orig_nbformat": 4
 },
 "nbformat": 4,
 "nbformat_minor": 2
}
