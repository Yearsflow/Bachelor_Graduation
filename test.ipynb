{
 "cells": [
  {
   "cell_type": "code",
   "execution_count": 1,
   "metadata": {},
   "outputs": [],
   "source": [
    "import pandas as pd\n",
    "import function\n",
    "import numpy as np"
   ]
  },
  {
   "cell_type": "code",
   "execution_count": 2,
   "metadata": {},
   "outputs": [],
   "source": [
    "train_vec=pd.read_csv('train_vec.txt',sep=' ',header=None)\n",
    "dev_vec=pd.read_csv('dev_vec.txt',sep=' ',header=None)\n",
    "test_vec=pd.read_csv('test_vec.txt',sep=' ',header=None)\n",
    "train_label=pd.read_csv('train_label.txt',names=['label'])\n",
    "dev_label=pd.read_csv('dev_label.txt',names=['label'])\n",
    "test_label=pd.read_csv('test_label.txt',names=['label'])"
   ]
  },
  {
   "cell_type": "code",
   "execution_count": 3,
   "metadata": {},
   "outputs": [],
   "source": [
    "train_label=function.transform_label(train_label)\n",
    "dev_label=function.transform_label(dev_label)\n",
    "test_label=function.transform_label(test_label)"
   ]
  },
  {
   "cell_type": "code",
   "execution_count": 4,
   "metadata": {},
   "outputs": [],
   "source": [
    "train_X=np.array(pd.concat([train_vec,dev_vec],join='inner'))\n",
    "train_Y=list(train_label['label'].astype(int))+list(dev_label['label'].astype(int))\n",
    "test_X=test_vec\n",
    "test_Y=test_label['label'].astype(int)"
   ]
  },
  {
   "cell_type": "code",
   "execution_count": 5,
   "metadata": {},
   "outputs": [
    {
     "name": "stdout",
     "output_type": "stream",
     "text": [
      "LogisticRegression:\n",
      "Accuracy: 0.7850589412811388\n",
      "Recall: 0.7850593288073517\n",
      "F1: 0.7855251196809132\n"
     ]
    },
    {
     "name": "stderr",
     "output_type": "stream",
     "text": [
      "D:\\Anaconda\\envs\\Graduation\\lib\\site-packages\\sklearn\\linear_model\\_logistic.py:814: ConvergenceWarning: lbfgs failed to converge (status=1):\n",
      "STOP: TOTAL NO. of ITERATIONS REACHED LIMIT.\n",
      "\n",
      "Increase the number of iterations (max_iter) or scale the data as shown in:\n",
      "    https://scikit-learn.org/stable/modules/preprocessing.html\n",
      "Please also refer to the documentation for alternative solver options:\n",
      "    https://scikit-learn.org/stable/modules/linear_model.html#logistic-regression\n",
      "  n_iter_i = _check_optimize_result(\n"
     ]
    }
   ],
   "source": [
    "predict_res=function.TPE_MLmodels(function.LogisticRegression(),train_X,train_Y,test_X,test_Y,'LogisticRegression')"
   ]
  },
  {
   "cell_type": "code",
   "execution_count": 6,
   "metadata": {},
   "outputs": [
    {
     "name": "stdout",
     "output_type": "stream",
     "text": [
      "RandomForest:\n",
      "Accuracy: 0.7406583629893239\n",
      "Recall: 0.7406648653722511\n",
      "F1: 0.7418906755939618\n"
     ]
    }
   ],
   "source": [
    "predict_res=function.TPE_MLmodels(function.RandomForestClassifier(),train_X,train_Y,test_X,test_Y,'RandomForest')"
   ]
  },
  {
   "cell_type": "code",
   "execution_count": 7,
   "metadata": {},
   "outputs": [
    {
     "name": "stdout",
     "output_type": "stream",
     "text": [
      "AdaBoost:\n",
      "Accuracy: 0.5683385231316725\n",
      "Recall: 0.5683350309640632\n",
      "F1: 0.5642326358652049\n"
     ]
    }
   ],
   "source": [
    "predict_res=function.TPE_MLmodels(function.AdaBoostClassifier(),train_X,train_Y,test_X,test_Y,'AdaBoost')"
   ]
  },
  {
   "cell_type": "code",
   "execution_count": 9,
   "metadata": {},
   "outputs": [
    {
     "name": "stdout",
     "output_type": "stream",
     "text": [
      "GaussianNB:\n",
      "Accuracy: 0.7252835854092526\n",
      "Recall: 0.7252946549759541\n",
      "F1: 0.7286748804124574\n"
     ]
    }
   ],
   "source": [
    "predict_res=function.TPE_MLmodels(function.GaussianNB(),train_X,train_Y,test_X,test_Y,'GaussianNB')"
   ]
  },
  {
   "cell_type": "code",
   "execution_count": 10,
   "metadata": {},
   "outputs": [
    {
     "name": "stdout",
     "output_type": "stream",
     "text": [
      "DecisionTree:\n",
      "Accuracy: 0.47892571174377224\n",
      "Recall: 0.4789232572910353\n",
      "F1: 0.47953654713608784\n"
     ]
    }
   ],
   "source": [
    "predict_res=function.TPE_MLmodels(function.DecisionTreeClassifier(),train_X,train_Y,test_X,test_Y,'DecisionTree')"
   ]
  },
  {
   "cell_type": "code",
   "execution_count": 11,
   "metadata": {},
   "outputs": [
    {
     "name": "stdout",
     "output_type": "stream",
     "text": [
      "KNN:\n",
      "Accuracy: 0.7594806494661922\n",
      "Recall: 0.7594767519572997\n",
      "F1: 0.7595498117141984\n"
     ]
    }
   ],
   "source": [
    "predict_res=function.TPE_MLmodels(function.KNeighborsClassifier(),train_X,train_Y,test_X,test_Y,'KNN')"
   ]
  },
  {
   "cell_type": "code",
   "execution_count": null,
   "metadata": {},
   "outputs": [],
   "source": []
  }
 ],
 "metadata": {
  "interpreter": {
   "hash": "cb765c3868d9bad005e70532223c561422f02f67a5fc37903f253e3d1fb0edf2"
  },
  "kernelspec": {
   "display_name": "Python 3.8.12 64-bit ('Graduation': conda)",
   "language": "python",
   "name": "python3"
  },
  "language_info": {
   "codemirror_mode": {
    "name": "ipython",
    "version": 3
   },
   "file_extension": ".py",
   "mimetype": "text/x-python",
   "name": "python",
   "nbconvert_exporter": "python",
   "pygments_lexer": "ipython3",
   "version": "3.8.12"
  },
  "orig_nbformat": 4
 },
 "nbformat": 4,
 "nbformat_minor": 2
}
