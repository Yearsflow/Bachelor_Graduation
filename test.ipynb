{
 "cells": [
  {
   "cell_type": "code",
   "execution_count": 1,
   "metadata": {},
   "outputs": [],
   "source": [
    "import pandas as pd\n",
    "import function\n",
    "import numpy as np"
   ]
  },
  {
   "cell_type": "code",
   "execution_count": 2,
   "metadata": {},
   "outputs": [],
   "source": [
    "train_vec=pd.read_csv('train_vec.txt',sep=' ',header=None)\n",
    "dev_vec=pd.read_csv('dev_vec.txt',sep=' ',header=None)\n",
    "test_vec=pd.read_csv('test_vec.txt',sep=' ',header=None)\n",
    "train_label=pd.read_csv('train_label.txt',names=['label'])\n",
    "dev_label=pd.read_csv('dev_label.txt',names=['label'])\n",
    "test_label=pd.read_csv('test_label.txt',names=['label'])"
   ]
  },
  {
   "cell_type": "code",
   "execution_count": 3,
   "metadata": {},
   "outputs": [],
   "source": [
    "train_label=function.transform_label(train_label)\n",
    "dev_label=function.transform_label(dev_label)\n",
    "test_label=function.transform_label(test_label)"
   ]
  },
  {
   "cell_type": "code",
   "execution_count": 4,
   "metadata": {},
   "outputs": [],
   "source": [
    "train_X=np.array(pd.concat([train_vec,dev_vec],join='inner'))\n",
    "train_Y=list(train_label['label'].astype(int))+list(dev_label['label'].astype(int))\n",
    "test_X=test_vec\n",
    "test_Y=test_label['label'].astype(int)"
   ]
  },
  {
   "cell_type": "code",
   "execution_count": 5,
   "metadata": {},
   "outputs": [
    {
     "name": "stdout",
     "output_type": "stream",
     "text": [
      "GaussianNB:\n",
      "Accuracy: 0.7252835854092526\n",
      "Recall: 0.7252946549759541\n",
      "F1: 0.7286748804124574\n"
     ]
    }
   ],
   "source": [
    "predict_res=function.TPE_MLmodels(function.GaussianNB(),train_X,train_Y,test_X,test_Y,'GaussianNB')"
   ]
  },
  {
   "cell_type": "code",
   "execution_count": 6,
   "metadata": {},
   "outputs": [
    {
     "name": "stdout",
     "output_type": "stream",
     "text": [
      "DecisionTree:\n",
      "Accuracy: 0.48095529359430605\n",
      "Recall: 0.4809529985352998\n",
      "F1: 0.4816777258878523\n"
     ]
    }
   ],
   "source": [
    "predict_res=function.TPE_MLmodels(function.DecisionTreeClassifier(),train_X,train_Y,test_X,test_Y,'DecisionTree')"
   ]
  },
  {
   "cell_type": "code",
   "execution_count": 7,
   "metadata": {},
   "outputs": [
    {
     "name": "stdout",
     "output_type": "stream",
     "text": [
      "KNN:\n",
      "Accuracy: 0.7594806494661922\n",
      "Recall: 0.7594767519572997\n",
      "F1: 0.7595498117141984\n"
     ]
    }
   ],
   "source": [
    "predict_res=function.TPE_MLmodels(function.KNeighborsClassifier(),train_X,train_Y,test_X,test_Y,'KNN')"
   ]
  },
  {
   "cell_type": "code",
   "execution_count": 8,
   "metadata": {},
   "outputs": [],
   "source": [
    "predict_res=function.TPE_MLmodels(function.SVC(),train_X,train_Y,test_X,test_Y,'SVM')"
   ]
  },
  {
   "cell_type": "code",
   "execution_count": null,
   "metadata": {},
   "outputs": [],
   "source": [
    "predict_res=function.TPE_MLmodels(function.LogisticRegression(),train_X,train_Y,test_X,test_Y,'LogisticRegression')"
   ]
  },
  {
   "cell_type": "code",
   "execution_count": null,
   "metadata": {},
   "outputs": [],
   "source": [
    "predict_res=function.TPE_MLmodels(function.RandomForestClassifier(),train_X,train_Y,test_X,test_Y,'RandomForest')"
   ]
  },
  {
   "cell_type": "code",
   "execution_count": null,
   "metadata": {},
   "outputs": [],
   "source": [
    "predict_res=function.TPE_MLmodels(function.GradientBoostingClassifier(),train_X,train_Y,test_X,test_Y,'GradientBoosting')"
   ]
  },
  {
   "cell_type": "code",
   "execution_count": null,
   "metadata": {},
   "outputs": [],
   "source": [
    "predict_res=function.TPE_MLmodels(function.AdaBoostClassifier(),train_X,train_Y,test_X,test_Y,'AdaBoost')"
   ]
  },
  {
   "cell_type": "code",
   "execution_count": null,
   "metadata": {},
   "outputs": [],
   "source": []
  }
 ],
 "metadata": {
  "interpreter": {
   "hash": "cb765c3868d9bad005e70532223c561422f02f67a5fc37903f253e3d1fb0edf2"
  },
  "kernelspec": {
   "display_name": "Python 3.8.12 64-bit ('Graduation': conda)",
   "language": "python",
   "name": "python3"
  },
  "language_info": {
   "codemirror_mode": {
    "name": "ipython",
    "version": 3
   },
   "file_extension": ".py",
   "mimetype": "text/x-python",
   "name": "python",
   "nbconvert_exporter": "python",
   "pygments_lexer": "ipython3",
   "version": "3.8.12"
  },
  "orig_nbformat": 4
 },
 "nbformat": 4,
 "nbformat_minor": 2
}
