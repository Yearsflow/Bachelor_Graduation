{
 "cells": [
  {
   "cell_type": "code",
   "execution_count": 3,
   "metadata": {},
   "outputs": [],
   "source": [
    "import pandas as pd\n",
    "import function\n",
    "import numpy as np\n",
    "import tensorflow as tf\n",
    "from tensorflow import keras\n",
    "from keras.models import Model,Sequential\n",
    "from keras.layers import Dense,Dropout\n",
    "from tensorflow.keras.optimizers import SGD\n",
    "from keras.losses import SparseCategoricalCrossentropy"
   ]
  },
  {
   "cell_type": "code",
   "execution_count": 2,
   "metadata": {},
   "outputs": [],
   "source": [
    "train_vec=pd.read_csv('./gc_data/train_vec.txt',sep=' ',header=None)\n",
    "dev_vec=pd.read_csv('./gc_data/dev_vec.txt',sep=' ',header=None)\n",
    "test_vec=pd.read_csv('./gc_data/test_vec.txt',sep=' ',header=None)\n",
    "train_label=pd.read_csv('./gc_data/train_label.txt',names=['label'])\n",
    "dev_label=pd.read_csv('./gc_data/dev_label.txt',names=['label'])\n",
    "test_label=pd.read_csv('./gc_data/test_label.txt',names=['label'])"
   ]
  },
  {
   "cell_type": "code",
   "execution_count": 3,
   "metadata": {},
   "outputs": [],
   "source": [
    "train_label=function.transform_label(train_label)\n",
    "dev_label=function.transform_label(dev_label)\n",
    "test_label=function.transform_label(test_label)"
   ]
  },
  {
   "cell_type": "code",
   "execution_count": 4,
   "metadata": {},
   "outputs": [],
   "source": [
    "train_X=np.array(train_vec)\n",
    "train_Y=np.array(list(train_label['label'].astype(int)))\n",
    "dev_X=np.array(dev_vec)\n",
    "dev_Y=np.array(list(dev_label['label'].astype(int)))\n",
    "test_X=test_vec\n",
    "test_Y=test_label['label'].astype(int)"
   ]
  },
  {
   "cell_type": "code",
   "execution_count": null,
   "metadata": {},
   "outputs": [],
   "source": [
    "def MLP(optimizer=SGD(),loss=SparseCategoricalCrossentropy(),metrics=['accuracy']):\n",
    "    model=Sequential([\n",
    "        Dense(256,activation='relu',input_shape=(768,)),\n",
    "        Dense(256,activation='relu'),\n",
    "        Dense(128,activation='relu'),\n",
    "        Dense(64,activation='relu'),\n",
    "        Dropout(0.2),\n",
    "        Dense(18,activation='softmax')\n",
    "    ])\n",
    "    model.compile(optimizer=optimizer,loss=loss,metrics=metrics)\n",
    "    return model\n",
    "\n",
    "model=MLP('adam')\n",
    "history=model.fit(train_X,train_Y,batch_size=64,epochs=100,validation_data=(dev_X,dev_Y))\n",
    "model.save('MLP.h5')\n",
    "result=model.predict(test_X)"
   ]
  },
  {
   "cell_type": "code",
   "execution_count": null,
   "metadata": {},
   "outputs": [],
   "source": [
    "res=[]\n",
    "for i in range(len(result)):\n",
    "    res.append(list(result[i]).index(max(result[i])))\n",
    "function.evaluate(res,test_Y)"
   ]
  },
  {
   "cell_type": "code",
   "execution_count": 5,
   "metadata": {},
   "outputs": [
    {
     "data": {
      "text/html": [
       "<div>\n",
       "<style scoped>\n",
       "    .dataframe tbody tr th:only-of-type {\n",
       "        vertical-align: middle;\n",
       "    }\n",
       "\n",
       "    .dataframe tbody tr th {\n",
       "        vertical-align: top;\n",
       "    }\n",
       "\n",
       "    .dataframe thead th {\n",
       "        text-align: right;\n",
       "    }\n",
       "</style>\n",
       "<table border=\"1\" class=\"dataframe\">\n",
       "  <thead>\n",
       "    <tr style=\"text-align: right;\">\n",
       "      <th></th>\n",
       "      <th>word</th>\n",
       "      <th>times</th>\n",
       "    </tr>\n",
       "  </thead>\n",
       "  <tbody>\n",
       "    <tr>\n",
       "      <th>0</th>\n",
       "      <td>，</td>\n",
       "      <td>124634</td>\n",
       "    </tr>\n",
       "    <tr>\n",
       "      <th>1</th>\n",
       "      <td>的</td>\n",
       "      <td>94820</td>\n",
       "    </tr>\n",
       "    <tr>\n",
       "      <th>2</th>\n",
       "      <td>！</td>\n",
       "      <td>49051</td>\n",
       "    </tr>\n",
       "    <tr>\n",
       "      <th>3</th>\n",
       "      <td>？</td>\n",
       "      <td>37853</td>\n",
       "    </tr>\n",
       "    <tr>\n",
       "      <th>4</th>\n",
       "      <td>了</td>\n",
       "      <td>33303</td>\n",
       "    </tr>\n",
       "  </tbody>\n",
       "</table>\n",
       "</div>"
      ],
      "text/plain": [
       "  word   times\n",
       "0    ，  124634\n",
       "1    的   94820\n",
       "2    ！   49051\n",
       "3    ？   37853\n",
       "4    了   33303"
      ]
     },
     "execution_count": 5,
     "metadata": {},
     "output_type": "execute_result"
    }
   ],
   "source": [
    "import csv\n",
    "vocab=pd.read_csv('./data/vocab.txt',sep='\\t',names=['word','times'],quoting=csv.QUOTE_NONE)\n",
    "vocab.head()"
   ]
  },
  {
   "cell_type": "code",
   "execution_count": 6,
   "metadata": {},
   "outputs": [],
   "source": [
    "def TextCNN(vocab_size,feature_size,embed_size,num_classes,num_filters,filter_sizes,regularizer_lambda,dropout_rate):\n",
    "    inputs=keras.Input(shape=(feature_size,),name='input_data')\n",
    "    embed_initer=keras.initializers.RandomUniform(minval=-1,maxval=1)\n",
    "    embed=keras.layers.Embedding(vocab_size,embed_size,embeddings_initializer=embed_initer,input_length=feature_size,name='embedding')(inputs)\n",
    "    embed=keras.layers.Reshape((feature_size,embed_size,1),name='add_channel')(embed)\n",
    "    pool_outputs=[]\n",
    "    for filter_size in list(map(int,filter_sizes.split(','))):\n",
    "        filter_shape=(filter_size,embed_size)\n",
    "        conv=keras.layers.Conv2D(num_filters,filter_shape,strides=(1,1),padding='valid',\n",
    "                                data_format='channels_last',activation='relu',\n",
    "                                kernel_initializer='glorot_normal',bias_initializer=keras.initializers.constant(0.1),\n",
    "                                name='convolution_{:d}'.format(filter_size))(embed)\n",
    "        max_pool_shape=(feature_size-filter_size+1,1)\n",
    "        pool=keras.layers.MaxPool2D(pool_size=max_pool_shape,strides=(1,1),padding='valid',data_format='channels_last',name='max_pooling_{:d}'.format(filter_size))(conv)\n",
    "        pool_outputs.append(pool)\n",
    "    pool_outputs=keras.layers.concatenate(pool_outputs,axis=-1,name='concatenate')\n",
    "    pool_outputs=keras.layers.Flatten(data_format='channels_last',name='flatten')(pool_outputs)\n",
    "    pool_outputs=keras.layers.Dropout(dropout_rate,name='dropout')(pool_outputs)\n",
    "    outputs=keras.layers.Dense(num_classes,activation='softmax',kernel_initializer='glorot_normal',bias_initializer=keras.initializers.constant(0.1),\n",
    "                                kernel_regularizer=keras.regularizers.l2(regularizer_lambda),bias_regularizer=keras.regularizers.l2(regularizer_lambda),\n",
    "                                name='dense')(pool_outputs)\n",
    "    model=keras.Model(inputs=inputs,outputs=outputs)\n",
    "    model.compile(optimizer='adam',loss=SparseCategoricalCrossentropy(),metrics=['accuracy'])\n",
    "    return model"
   ]
  },
  {
   "cell_type": "code",
   "execution_count": 7,
   "metadata": {},
   "outputs": [],
   "source": [
    "import os\n",
    "os.environ['CUDA_VISIBLE_DEVICES']='-1'\n",
    "model=TextCNN(len(vocab),768,512,18,128,'3,4,5',0.01,0.2)"
   ]
  },
  {
   "cell_type": "code",
   "execution_count": 8,
   "metadata": {},
   "outputs": [
    {
     "name": "stdout",
     "output_type": "stream",
     "text": [
      "Epoch 1/100\n"
     ]
    },
    {
     "ename": "InvalidArgumentError",
     "evalue": " indices[13,478] = -1 is not in [0, 150345)\n\t [[node model/embedding/embedding_lookup\n (defined at D:\\Anaconda\\envs\\Graduation\\lib\\site-packages\\keras\\layers\\embeddings.py:191)\n]] [Op:__inference_train_function_1035]\n\nErrors may have originated from an input operation.\nInput Source operations connected to node model/embedding/embedding_lookup:\nIn[0] model/embedding/embedding_lookup/699:\t\nIn[1] model/embedding/Cast (defined at D:\\Anaconda\\envs\\Graduation\\lib\\site-packages\\keras\\layers\\embeddings.py:190)\n\nOperation defined at: (most recent call last)\n>>>   File \"D:\\Anaconda\\envs\\Graduation\\lib\\runpy.py\", line 194, in _run_module_as_main\n>>>     return _run_code(code, main_globals, None,\n>>> \n>>>   File \"D:\\Anaconda\\envs\\Graduation\\lib\\runpy.py\", line 87, in _run_code\n>>>     exec(code, run_globals)\n>>> \n>>>   File \"D:\\Anaconda\\envs\\Graduation\\lib\\site-packages\\ipykernel_launcher.py\", line 16, in <module>\n>>>     app.launch_new_instance()\n>>> \n>>>   File \"D:\\Anaconda\\envs\\Graduation\\lib\\site-packages\\traitlets\\config\\application.py\", line 846, in launch_instance\n>>>     app.start()\n>>> \n>>>   File \"D:\\Anaconda\\envs\\Graduation\\lib\\site-packages\\ipykernel\\kernelapp.py\", line 677, in start\n>>>     self.io_loop.start()\n>>> \n>>>   File \"D:\\Anaconda\\envs\\Graduation\\lib\\site-packages\\tornado\\platform\\asyncio.py\", line 199, in start\n>>>     self.asyncio_loop.run_forever()\n>>> \n>>>   File \"D:\\Anaconda\\envs\\Graduation\\lib\\asyncio\\base_events.py\", line 570, in run_forever\n>>>     self._run_once()\n>>> \n>>>   File \"D:\\Anaconda\\envs\\Graduation\\lib\\asyncio\\base_events.py\", line 1859, in _run_once\n>>>     handle._run()\n>>> \n>>>   File \"D:\\Anaconda\\envs\\Graduation\\lib\\asyncio\\events.py\", line 81, in _run\n>>>     self._context.run(self._callback, *self._args)\n>>> \n>>>   File \"D:\\Anaconda\\envs\\Graduation\\lib\\site-packages\\ipykernel\\kernelbase.py\", line 457, in dispatch_queue\n>>>     await self.process_one()\n>>> \n>>>   File \"D:\\Anaconda\\envs\\Graduation\\lib\\site-packages\\ipykernel\\kernelbase.py\", line 446, in process_one\n>>>     await dispatch(*args)\n>>> \n>>>   File \"D:\\Anaconda\\envs\\Graduation\\lib\\site-packages\\ipykernel\\kernelbase.py\", line 353, in dispatch_shell\n>>>     await result\n>>> \n>>>   File \"D:\\Anaconda\\envs\\Graduation\\lib\\site-packages\\ipykernel\\kernelbase.py\", line 648, in execute_request\n>>>     reply_content = await reply_content\n>>> \n>>>   File \"D:\\Anaconda\\envs\\Graduation\\lib\\site-packages\\ipykernel\\ipkernel.py\", line 353, in do_execute\n>>>     res = shell.run_cell(code, store_history=store_history, silent=silent)\n>>> \n>>>   File \"D:\\Anaconda\\envs\\Graduation\\lib\\site-packages\\ipykernel\\zmqshell.py\", line 533, in run_cell\n>>>     return super(ZMQInteractiveShell, self).run_cell(*args, **kwargs)\n>>> \n>>>   File \"D:\\Anaconda\\envs\\Graduation\\lib\\site-packages\\IPython\\core\\interactiveshell.py\", line 2901, in run_cell\n>>>     result = self._run_cell(\n>>> \n>>>   File \"D:\\Anaconda\\envs\\Graduation\\lib\\site-packages\\IPython\\core\\interactiveshell.py\", line 2947, in _run_cell\n>>>     return runner(coro)\n>>> \n>>>   File \"D:\\Anaconda\\envs\\Graduation\\lib\\site-packages\\IPython\\core\\async_helpers.py\", line 68, in _pseudo_sync_runner\n>>>     coro.send(None)\n>>> \n>>>   File \"D:\\Anaconda\\envs\\Graduation\\lib\\site-packages\\IPython\\core\\interactiveshell.py\", line 3172, in run_cell_async\n>>>     has_raised = await self.run_ast_nodes(code_ast.body, cell_name,\n>>> \n>>>   File \"D:\\Anaconda\\envs\\Graduation\\lib\\site-packages\\IPython\\core\\interactiveshell.py\", line 3364, in run_ast_nodes\n>>>     if (await self.run_code(code, result,  async_=asy)):\n>>> \n>>>   File \"D:\\Anaconda\\envs\\Graduation\\lib\\site-packages\\IPython\\core\\interactiveshell.py\", line 3444, in run_code\n>>>     exec(code_obj, self.user_global_ns, self.user_ns)\n>>> \n>>>   File \"C:\\Users\\years\\AppData\\Local\\Temp/ipykernel_43716/4182448068.py\", line 1, in <module>\n>>>     model.fit(train_X,train_Y,epochs=100,batch_size=16,validation_data=(dev_X,dev_Y))\n>>> \n>>>   File \"D:\\Anaconda\\envs\\Graduation\\lib\\site-packages\\keras\\utils\\traceback_utils.py\", line 64, in error_handler\n>>>     return fn(*args, **kwargs)\n>>> \n>>>   File \"D:\\Anaconda\\envs\\Graduation\\lib\\site-packages\\keras\\engine\\training.py\", line 1216, in fit\n>>>     tmp_logs = self.train_function(iterator)\n>>> \n>>>   File \"D:\\Anaconda\\envs\\Graduation\\lib\\site-packages\\keras\\engine\\training.py\", line 878, in train_function\n>>>     return step_function(self, iterator)\n>>> \n>>>   File \"D:\\Anaconda\\envs\\Graduation\\lib\\site-packages\\keras\\engine\\training.py\", line 867, in step_function\n>>>     outputs = model.distribute_strategy.run(run_step, args=(data,))\n>>> \n>>>   File \"D:\\Anaconda\\envs\\Graduation\\lib\\site-packages\\keras\\engine\\training.py\", line 860, in run_step\n>>>     outputs = model.train_step(data)\n>>> \n>>>   File \"D:\\Anaconda\\envs\\Graduation\\lib\\site-packages\\keras\\engine\\training.py\", line 808, in train_step\n>>>     y_pred = self(x, training=True)\n>>> \n>>>   File \"D:\\Anaconda\\envs\\Graduation\\lib\\site-packages\\keras\\utils\\traceback_utils.py\", line 64, in error_handler\n>>>     return fn(*args, **kwargs)\n>>> \n>>>   File \"D:\\Anaconda\\envs\\Graduation\\lib\\site-packages\\keras\\engine\\base_layer.py\", line 1083, in __call__\n>>>     outputs = call_fn(inputs, *args, **kwargs)\n>>> \n>>>   File \"D:\\Anaconda\\envs\\Graduation\\lib\\site-packages\\keras\\utils\\traceback_utils.py\", line 92, in error_handler\n>>>     return fn(*args, **kwargs)\n>>> \n>>>   File \"D:\\Anaconda\\envs\\Graduation\\lib\\site-packages\\keras\\engine\\functional.py\", line 451, in call\n>>>     return self._run_internal_graph(\n>>> \n>>>   File \"D:\\Anaconda\\envs\\Graduation\\lib\\site-packages\\keras\\engine\\functional.py\", line 589, in _run_internal_graph\n>>>     outputs = node.layer(*args, **kwargs)\n>>> \n>>>   File \"D:\\Anaconda\\envs\\Graduation\\lib\\site-packages\\keras\\utils\\traceback_utils.py\", line 64, in error_handler\n>>>     return fn(*args, **kwargs)\n>>> \n>>>   File \"D:\\Anaconda\\envs\\Graduation\\lib\\site-packages\\keras\\engine\\base_layer.py\", line 1083, in __call__\n>>>     outputs = call_fn(inputs, *args, **kwargs)\n>>> \n>>>   File \"D:\\Anaconda\\envs\\Graduation\\lib\\site-packages\\keras\\utils\\traceback_utils.py\", line 92, in error_handler\n>>>     return fn(*args, **kwargs)\n>>> \n>>>   File \"D:\\Anaconda\\envs\\Graduation\\lib\\site-packages\\keras\\layers\\embeddings.py\", line 191, in call\n>>>     out = tf.nn.embedding_lookup(self.embeddings, inputs)\n>>> ",
     "output_type": "error",
     "traceback": [
      "\u001B[1;31m---------------------------------------------------------------------------\u001B[0m",
      "\u001B[1;31mInvalidArgumentError\u001B[0m                      Traceback (most recent call last)",
      "\u001B[1;32m~\\AppData\\Local\\Temp/ipykernel_43716/4182448068.py\u001B[0m in \u001B[0;36m<module>\u001B[1;34m\u001B[0m\n\u001B[1;32m----> 1\u001B[1;33m \u001B[0mmodel\u001B[0m\u001B[1;33m.\u001B[0m\u001B[0mfit\u001B[0m\u001B[1;33m(\u001B[0m\u001B[0mtrain_X\u001B[0m\u001B[1;33m,\u001B[0m\u001B[0mtrain_Y\u001B[0m\u001B[1;33m,\u001B[0m\u001B[0mepochs\u001B[0m\u001B[1;33m=\u001B[0m\u001B[1;36m100\u001B[0m\u001B[1;33m,\u001B[0m\u001B[0mbatch_size\u001B[0m\u001B[1;33m=\u001B[0m\u001B[1;36m16\u001B[0m\u001B[1;33m,\u001B[0m\u001B[0mvalidation_data\u001B[0m\u001B[1;33m=\u001B[0m\u001B[1;33m(\u001B[0m\u001B[0mdev_X\u001B[0m\u001B[1;33m,\u001B[0m\u001B[0mdev_Y\u001B[0m\u001B[1;33m)\u001B[0m\u001B[1;33m)\u001B[0m\u001B[1;33m\u001B[0m\u001B[1;33m\u001B[0m\u001B[0m\n\u001B[0m",
      "\u001B[1;32mD:\\Anaconda\\envs\\Graduation\\lib\\site-packages\\keras\\utils\\traceback_utils.py\u001B[0m in \u001B[0;36merror_handler\u001B[1;34m(*args, **kwargs)\u001B[0m\n\u001B[0;32m     65\u001B[0m     \u001B[1;32mexcept\u001B[0m \u001B[0mException\u001B[0m \u001B[1;32mas\u001B[0m \u001B[0me\u001B[0m\u001B[1;33m:\u001B[0m  \u001B[1;31m# pylint: disable=broad-except\u001B[0m\u001B[1;33m\u001B[0m\u001B[1;33m\u001B[0m\u001B[0m\n\u001B[0;32m     66\u001B[0m       \u001B[0mfiltered_tb\u001B[0m \u001B[1;33m=\u001B[0m \u001B[0m_process_traceback_frames\u001B[0m\u001B[1;33m(\u001B[0m\u001B[0me\u001B[0m\u001B[1;33m.\u001B[0m\u001B[0m__traceback__\u001B[0m\u001B[1;33m)\u001B[0m\u001B[1;33m\u001B[0m\u001B[1;33m\u001B[0m\u001B[0m\n\u001B[1;32m---> 67\u001B[1;33m       \u001B[1;32mraise\u001B[0m \u001B[0me\u001B[0m\u001B[1;33m.\u001B[0m\u001B[0mwith_traceback\u001B[0m\u001B[1;33m(\u001B[0m\u001B[0mfiltered_tb\u001B[0m\u001B[1;33m)\u001B[0m \u001B[1;32mfrom\u001B[0m \u001B[1;32mNone\u001B[0m\u001B[1;33m\u001B[0m\u001B[1;33m\u001B[0m\u001B[0m\n\u001B[0m\u001B[0;32m     68\u001B[0m     \u001B[1;32mfinally\u001B[0m\u001B[1;33m:\u001B[0m\u001B[1;33m\u001B[0m\u001B[1;33m\u001B[0m\u001B[0m\n\u001B[0;32m     69\u001B[0m       \u001B[1;32mdel\u001B[0m \u001B[0mfiltered_tb\u001B[0m\u001B[1;33m\u001B[0m\u001B[1;33m\u001B[0m\u001B[0m\n",
      "\u001B[1;32mD:\\Anaconda\\envs\\Graduation\\lib\\site-packages\\tensorflow\\python\\eager\\execute.py\u001B[0m in \u001B[0;36mquick_execute\u001B[1;34m(op_name, num_outputs, inputs, attrs, ctx, name)\u001B[0m\n\u001B[0;32m     56\u001B[0m   \u001B[1;32mtry\u001B[0m\u001B[1;33m:\u001B[0m\u001B[1;33m\u001B[0m\u001B[1;33m\u001B[0m\u001B[0m\n\u001B[0;32m     57\u001B[0m     \u001B[0mctx\u001B[0m\u001B[1;33m.\u001B[0m\u001B[0mensure_initialized\u001B[0m\u001B[1;33m(\u001B[0m\u001B[1;33m)\u001B[0m\u001B[1;33m\u001B[0m\u001B[1;33m\u001B[0m\u001B[0m\n\u001B[1;32m---> 58\u001B[1;33m     tensors = pywrap_tfe.TFE_Py_Execute(ctx._handle, device_name, op_name,\n\u001B[0m\u001B[0;32m     59\u001B[0m                                         inputs, attrs, num_outputs)\n\u001B[0;32m     60\u001B[0m   \u001B[1;32mexcept\u001B[0m \u001B[0mcore\u001B[0m\u001B[1;33m.\u001B[0m\u001B[0m_NotOkStatusException\u001B[0m \u001B[1;32mas\u001B[0m \u001B[0me\u001B[0m\u001B[1;33m:\u001B[0m\u001B[1;33m\u001B[0m\u001B[1;33m\u001B[0m\u001B[0m\n",
      "\u001B[1;31mInvalidArgumentError\u001B[0m:  indices[13,478] = -1 is not in [0, 150345)\n\t [[node model/embedding/embedding_lookup\n (defined at D:\\Anaconda\\envs\\Graduation\\lib\\site-packages\\keras\\layers\\embeddings.py:191)\n]] [Op:__inference_train_function_1035]\n\nErrors may have originated from an input operation.\nInput Source operations connected to node model/embedding/embedding_lookup:\nIn[0] model/embedding/embedding_lookup/699:\t\nIn[1] model/embedding/Cast (defined at D:\\Anaconda\\envs\\Graduation\\lib\\site-packages\\keras\\layers\\embeddings.py:190)\n\nOperation defined at: (most recent call last)\n>>>   File \"D:\\Anaconda\\envs\\Graduation\\lib\\runpy.py\", line 194, in _run_module_as_main\n>>>     return _run_code(code, main_globals, None,\n>>> \n>>>   File \"D:\\Anaconda\\envs\\Graduation\\lib\\runpy.py\", line 87, in _run_code\n>>>     exec(code, run_globals)\n>>> \n>>>   File \"D:\\Anaconda\\envs\\Graduation\\lib\\site-packages\\ipykernel_launcher.py\", line 16, in <module>\n>>>     app.launch_new_instance()\n>>> \n>>>   File \"D:\\Anaconda\\envs\\Graduation\\lib\\site-packages\\traitlets\\config\\application.py\", line 846, in launch_instance\n>>>     app.start()\n>>> \n>>>   File \"D:\\Anaconda\\envs\\Graduation\\lib\\site-packages\\ipykernel\\kernelapp.py\", line 677, in start\n>>>     self.io_loop.start()\n>>> \n>>>   File \"D:\\Anaconda\\envs\\Graduation\\lib\\site-packages\\tornado\\platform\\asyncio.py\", line 199, in start\n>>>     self.asyncio_loop.run_forever()\n>>> \n>>>   File \"D:\\Anaconda\\envs\\Graduation\\lib\\asyncio\\base_events.py\", line 570, in run_forever\n>>>     self._run_once()\n>>> \n>>>   File \"D:\\Anaconda\\envs\\Graduation\\lib\\asyncio\\base_events.py\", line 1859, in _run_once\n>>>     handle._run()\n>>> \n>>>   File \"D:\\Anaconda\\envs\\Graduation\\lib\\asyncio\\events.py\", line 81, in _run\n>>>     self._context.run(self._callback, *self._args)\n>>> \n>>>   File \"D:\\Anaconda\\envs\\Graduation\\lib\\site-packages\\ipykernel\\kernelbase.py\", line 457, in dispatch_queue\n>>>     await self.process_one()\n>>> \n>>>   File \"D:\\Anaconda\\envs\\Graduation\\lib\\site-packages\\ipykernel\\kernelbase.py\", line 446, in process_one\n>>>     await dispatch(*args)\n>>> \n>>>   File \"D:\\Anaconda\\envs\\Graduation\\lib\\site-packages\\ipykernel\\kernelbase.py\", line 353, in dispatch_shell\n>>>     await result\n>>> \n>>>   File \"D:\\Anaconda\\envs\\Graduation\\lib\\site-packages\\ipykernel\\kernelbase.py\", line 648, in execute_request\n>>>     reply_content = await reply_content\n>>> \n>>>   File \"D:\\Anaconda\\envs\\Graduation\\lib\\site-packages\\ipykernel\\ipkernel.py\", line 353, in do_execute\n>>>     res = shell.run_cell(code, store_history=store_history, silent=silent)\n>>> \n>>>   File \"D:\\Anaconda\\envs\\Graduation\\lib\\site-packages\\ipykernel\\zmqshell.py\", line 533, in run_cell\n>>>     return super(ZMQInteractiveShell, self).run_cell(*args, **kwargs)\n>>> \n>>>   File \"D:\\Anaconda\\envs\\Graduation\\lib\\site-packages\\IPython\\core\\interactiveshell.py\", line 2901, in run_cell\n>>>     result = self._run_cell(\n>>> \n>>>   File \"D:\\Anaconda\\envs\\Graduation\\lib\\site-packages\\IPython\\core\\interactiveshell.py\", line 2947, in _run_cell\n>>>     return runner(coro)\n>>> \n>>>   File \"D:\\Anaconda\\envs\\Graduation\\lib\\site-packages\\IPython\\core\\async_helpers.py\", line 68, in _pseudo_sync_runner\n>>>     coro.send(None)\n>>> \n>>>   File \"D:\\Anaconda\\envs\\Graduation\\lib\\site-packages\\IPython\\core\\interactiveshell.py\", line 3172, in run_cell_async\n>>>     has_raised = await self.run_ast_nodes(code_ast.body, cell_name,\n>>> \n>>>   File \"D:\\Anaconda\\envs\\Graduation\\lib\\site-packages\\IPython\\core\\interactiveshell.py\", line 3364, in run_ast_nodes\n>>>     if (await self.run_code(code, result,  async_=asy)):\n>>> \n>>>   File \"D:\\Anaconda\\envs\\Graduation\\lib\\site-packages\\IPython\\core\\interactiveshell.py\", line 3444, in run_code\n>>>     exec(code_obj, self.user_global_ns, self.user_ns)\n>>> \n>>>   File \"C:\\Users\\years\\AppData\\Local\\Temp/ipykernel_43716/4182448068.py\", line 1, in <module>\n>>>     model.fit(train_X,train_Y,epochs=100,batch_size=16,validation_data=(dev_X,dev_Y))\n>>> \n>>>   File \"D:\\Anaconda\\envs\\Graduation\\lib\\site-packages\\keras\\utils\\traceback_utils.py\", line 64, in error_handler\n>>>     return fn(*args, **kwargs)\n>>> \n>>>   File \"D:\\Anaconda\\envs\\Graduation\\lib\\site-packages\\keras\\engine\\training.py\", line 1216, in fit\n>>>     tmp_logs = self.train_function(iterator)\n>>> \n>>>   File \"D:\\Anaconda\\envs\\Graduation\\lib\\site-packages\\keras\\engine\\training.py\", line 878, in train_function\n>>>     return step_function(self, iterator)\n>>> \n>>>   File \"D:\\Anaconda\\envs\\Graduation\\lib\\site-packages\\keras\\engine\\training.py\", line 867, in step_function\n>>>     outputs = model.distribute_strategy.run(run_step, args=(data,))\n>>> \n>>>   File \"D:\\Anaconda\\envs\\Graduation\\lib\\site-packages\\keras\\engine\\training.py\", line 860, in run_step\n>>>     outputs = model.train_step(data)\n>>> \n>>>   File \"D:\\Anaconda\\envs\\Graduation\\lib\\site-packages\\keras\\engine\\training.py\", line 808, in train_step\n>>>     y_pred = self(x, training=True)\n>>> \n>>>   File \"D:\\Anaconda\\envs\\Graduation\\lib\\site-packages\\keras\\utils\\traceback_utils.py\", line 64, in error_handler\n>>>     return fn(*args, **kwargs)\n>>> \n>>>   File \"D:\\Anaconda\\envs\\Graduation\\lib\\site-packages\\keras\\engine\\base_layer.py\", line 1083, in __call__\n>>>     outputs = call_fn(inputs, *args, **kwargs)\n>>> \n>>>   File \"D:\\Anaconda\\envs\\Graduation\\lib\\site-packages\\keras\\utils\\traceback_utils.py\", line 92, in error_handler\n>>>     return fn(*args, **kwargs)\n>>> \n>>>   File \"D:\\Anaconda\\envs\\Graduation\\lib\\site-packages\\keras\\engine\\functional.py\", line 451, in call\n>>>     return self._run_internal_graph(\n>>> \n>>>   File \"D:\\Anaconda\\envs\\Graduation\\lib\\site-packages\\keras\\engine\\functional.py\", line 589, in _run_internal_graph\n>>>     outputs = node.layer(*args, **kwargs)\n>>> \n>>>   File \"D:\\Anaconda\\envs\\Graduation\\lib\\site-packages\\keras\\utils\\traceback_utils.py\", line 64, in error_handler\n>>>     return fn(*args, **kwargs)\n>>> \n>>>   File \"D:\\Anaconda\\envs\\Graduation\\lib\\site-packages\\keras\\engine\\base_layer.py\", line 1083, in __call__\n>>>     outputs = call_fn(inputs, *args, **kwargs)\n>>> \n>>>   File \"D:\\Anaconda\\envs\\Graduation\\lib\\site-packages\\keras\\utils\\traceback_utils.py\", line 92, in error_handler\n>>>     return fn(*args, **kwargs)\n>>> \n>>>   File \"D:\\Anaconda\\envs\\Graduation\\lib\\site-packages\\keras\\layers\\embeddings.py\", line 191, in call\n>>>     out = tf.nn.embedding_lookup(self.embeddings, inputs)\n>>> "
     ]
    }
   ],
   "source": [
    "model.fit(train_X,train_Y,epochs=100,batch_size=16,validation_data=(dev_X,dev_Y))"
   ]
  },
  {
   "cell_type": "code",
   "execution_count": null,
   "metadata": {},
   "outputs": [],
   "source": []
  }
 ],
 "metadata": {
  "interpreter": {
   "hash": "cb765c3868d9bad005e70532223c561422f02f67a5fc37903f253e3d1fb0edf2"
  },
  "kernelspec": {
   "display_name": "Python 3.8.12 64-bit ('Graduation': conda)",
   "language": "python",
   "name": "python3"
  },
  "language_info": {
   "codemirror_mode": {
    "name": "ipython",
    "version": 3
   },
   "file_extension": ".py",
   "mimetype": "text/x-python",
   "name": "python",
   "nbconvert_exporter": "python",
   "pygments_lexer": "ipython3",
   "version": "3.8.12"
  },
  "orig_nbformat": 4
 },
 "nbformat": 4,
 "nbformat_minor": 2
}